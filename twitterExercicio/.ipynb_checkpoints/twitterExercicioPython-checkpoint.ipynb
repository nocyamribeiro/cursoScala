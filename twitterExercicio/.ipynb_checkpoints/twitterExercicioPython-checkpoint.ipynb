{
 "cells": [
  {
   "cell_type": "code",
   "execution_count": 6,
   "metadata": {},
   "outputs": [],
   "source": [
    "import findspark\n",
    "findspark.init(\"/home/maycon/programas/spark-2.4.4-bin-hadoop2.7\")\n",
    "\n",
    "from pyspark import SparkContext, SparkConf\n",
    "\n"
   ]
  },
  {
   "cell_type": "code",
   "execution_count": 7,
   "metadata": {},
   "outputs": [],
   "source": [
    "\n",
    "sc = SparkContext.getOrCreate()\n",
    "\n"
   ]
  },
  {
   "cell_type": "code",
   "execution_count": 8,
   "metadata": {},
   "outputs": [
    {
     "data": {
      "text/plain": [
       "[('#followfriday', 2014),\n",
       " ('#fb', 1316),\n",
       " ('#ff', 745),\n",
       " ('#squarespace', 702),\n",
       " ('#', 404),\n",
       " ('#iranelection', 348),\n",
       " ('#musicmonday', 332),\n",
       " ('#1', 319),\n",
       " ('#fail', 267),\n",
       " ('#asot400', 265)]"
      ]
     },
     "execution_count": 8,
     "metadata": {},
     "output_type": "execute_result"
    }
   ],
   "source": [
    "linhas = sc.textFile(\"Sentiment Analysis Dataset.csv\")\n",
    "header = linhas.first() \n",
    "palavras =  linhas.filter(lambda row : row != header)\n",
    "palavras = palavras.flatMap(lambda l : l.split(\",\")[3].split(\" \"))\n",
    "palavras = palavras.filter(lambda l : len(l) > 0)\n",
    "hashtags = palavras.filter(lambda word : word.startswith(\"#\"))\n",
    "hashtagKey = hashtags.map(lambda hashtag : (hashtag.lower(),1))\n",
    "hashtagcontador = hashtagKey.reduceByKey(lambda x, y : x + y)\n",
    "ordenacao = hashtagcontador.sortBy(lambda x : x[1], ascending = False)\n",
    "ordenacao.take(10)\n",
    "\n"
   ]
  },
  {
   "cell_type": "code",
   "execution_count": null,
   "metadata": {},
   "outputs": [],
   "source": []
  },
  {
   "cell_type": "code",
   "execution_count": null,
   "metadata": {},
   "outputs": [],
   "source": []
  },
  {
   "cell_type": "code",
   "execution_count": null,
   "metadata": {},
   "outputs": [],
   "source": [
    "\n"
   ]
  },
  {
   "cell_type": "code",
   "execution_count": null,
   "metadata": {},
   "outputs": [],
   "source": []
  },
  {
   "cell_type": "code",
   "execution_count": null,
   "metadata": {},
   "outputs": [],
   "source": []
  }
 ],
 "metadata": {
  "kernelspec": {
   "display_name": "Python 3",
   "language": "python",
   "name": "python3"
  },
  "language_info": {
   "codemirror_mode": {
    "name": "ipython",
    "version": 3
   },
   "file_extension": ".py",
   "mimetype": "text/x-python",
   "name": "python",
   "nbconvert_exporter": "python",
   "pygments_lexer": "ipython3",
   "version": "3.7.1"
  }
 },
 "nbformat": 4,
 "nbformat_minor": 2
}
