{
 "cells": [
  {
   "cell_type": "code",
   "execution_count": 32,
   "metadata": {},
   "outputs": [],
   "source": [
    "import findspark\n",
    "findspark.init(\"/home/maycon/programas/spark-2.4.4-bin-hadoop2.7\")\n",
    "import pyspark\n",
    "import pyspark.sql.functions as fn\n",
    "from pyspark.sql import SparkSession\n",
    "from pyspark import SparkContext, SparkConf\n",
    "\n"
   ]
  },
  {
   "cell_type": "code",
   "execution_count": 23,
   "metadata": {},
   "outputs": [],
   "source": [
    "\n",
    "sc = SparkContext.getOrCreate()\n",
    "\n",
    "linhas = sc.textFile(\"Sentiment Analysis Dataset.csv\")\n",
    "header = linhas.first() "
   ]
  },
  {
   "cell_type": "code",
   "execution_count": 24,
   "metadata": {},
   "outputs": [],
   "source": [
    "palavras =  linhas.filter(lambda row : row != header).flatMap(lambda l : l.split(\",\")(3).split(\" \"))\n",
    "hashtags = palavras.filter(lambda word : word.startsWith(\"#\"))\n",
    "hashtagKey = hashtags.map(lambda hashtag : (hashtag.toLowerCase(),1))\n",
    "hashtagcontador = hashtagKey.reduceByKey(lambda x, y : x + y)\n",
    "\n"
   ]
  },
  {
   "cell_type": "code",
   "execution_count": 25,
   "metadata": {},
   "outputs": [],
   "source": [
    "ordenacao = hashtagcontador.sortBy(keyfunc = lambda x : x[1], ascending=\"false\", numPartitions=1)"
   ]
  },
  {
   "cell_type": "code",
   "execution_count": 31,
   "metadata": {},
   "outputs": [
    {
     "name": "stdout",
     "output_type": "stream",
     "text": [
      "PythonRDD[50] at collect at <ipython-input-26-ff78c0cd4469>:1\n"
     ]
    }
   ],
   "source": [
    "ord = print(ordenacao)"
   ]
  },
  {
   "cell_type": "code",
   "execution_count": 30,
   "metadata": {},
   "outputs": [],
   "source": [
    "\n"
   ]
  },
  {
   "cell_type": "code",
   "execution_count": null,
   "metadata": {},
   "outputs": [],
   "source": []
  },
  {
   "cell_type": "code",
   "execution_count": null,
   "metadata": {},
   "outputs": [],
   "source": []
  }
 ],
 "metadata": {
  "kernelspec": {
   "display_name": "Python 3",
   "language": "python",
   "name": "python3"
  },
  "language_info": {
   "codemirror_mode": {
    "name": "ipython",
    "version": 3
   },
   "file_extension": ".py",
   "mimetype": "text/x-python",
   "name": "python",
   "nbconvert_exporter": "python",
   "pygments_lexer": "ipython3",
   "version": "3.7.1"
  }
 },
 "nbformat": 4,
 "nbformat_minor": 2
}
