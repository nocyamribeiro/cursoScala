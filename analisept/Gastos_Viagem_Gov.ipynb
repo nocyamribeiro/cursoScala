{
 "cells": [
  {
   "cell_type": "code",
   "execution_count": 35,
   "metadata": {
    "ExecuteTime": {
     "end_time": "2019-09-24T03:35:48.615612Z",
     "start_time": "2019-09-24T03:35:48.606619Z"
    }
   },
   "outputs": [],
   "source": [
    "import findspark\n",
    "import os\n",
    "import sys\n",
    "\n",
    "findspark.init(os.environ.get('SPARK_HOME'))\n",
    "\n",
    "from pyspark import SparkContext, SparkConf\n",
    "from pyspark.sql import SparkSession\n",
    "import pyspark.sql.functions as functions\n",
    "from decimal import Decimal\n",
    "from pyspark.sql import functions as F "
   ]
  },
  {
   "cell_type": "code",
   "execution_count": 36,
   "metadata": {
    "ExecuteTime": {
     "end_time": "2019-09-24T03:35:48.724709Z",
     "start_time": "2019-09-24T03:35:48.619723Z"
    }
   },
   "outputs": [],
   "source": [
    "spark = SparkSession.builder.appName(\"GastoMinisterio\").getOrCreate()"
   ]
  },
  {
   "cell_type": "code",
   "execution_count": 37,
   "metadata": {
    "ExecuteTime": {
     "end_time": "2019-09-24T03:35:49.595474Z",
     "start_time": "2019-09-24T03:35:49.417834Z"
    }
   },
   "outputs": [],
   "source": [
    "#converte decimal\n",
    "to_value = lambda v : Decimal(v.replace(\",\", \".\"))"
   ]
  },
  {
   "cell_type": "code",
   "execution_count": 38,
   "metadata": {
    "ExecuteTime": {
     "end_time": "2019-09-24T03:35:49.761642Z",
     "start_time": "2019-09-24T03:35:49.600696Z"
    }
   },
   "outputs": [],
   "source": [
    "udf_to_value = functions.udf(to_value)"
   ]
  },
  {
   "cell_type": "code",
   "execution_count": 39,
   "metadata": {},
   "outputs": [],
   "source": [
    "caminhoArquivo = '/home/maycon/Cursos/spark/2019_Viagem.csv'"
   ]
  },
  {
   "cell_type": "code",
   "execution_count": 46,
   "metadata": {},
   "outputs": [],
   "source": [
    "def processarArquivo(caminhoArquivo) :\n",
    "    df = spark.read.format(\"csv\").option(\"header\", True).option(\"delimiter\", \";\").option('encoding', 'windows-1252').csv(caminhoArquivo)\n",
    "    df2 = df.withColumn(\"Max_por_org_sup\",    udf_to_value(df[\"Valor passagens\"]))\n",
    "    df2 = df2.withColumn(\"Media_por_org_sup\", udf_to_value(df2[\"Valor passagens\"]))\n",
    "    df2 = df2.withColumn(\"Min_por_org_sup\",   udf_to_value(df2[\"Valor passagens\"]))\n",
    "    df2 = df2.withColumn(\"Total_por_org_sup\", udf_to_value(df2[\"Valor passagens\"]))\n",
    "\n",
    "    df2 = df2.withColumn(\"Max_por_destinos\", udf_to_value(df2[\"Valor passagens\"]))\n",
    "    df2 = df2.withColumn(\"Media_por_destinos\", udf_to_value(df2[\"Valor passagens\"]))\n",
    "    df2 = df2.withColumn(\"Min_por_destinos\", udf_to_value(df2[\"Valor passagens\"]))\n",
    "    df2 = df2.withColumn(\"Total_por_destinos\", udf_to_value(df2[\"Valor passagens\"]))\n",
    "\n",
    "    df2 = df2.withColumn(\"Max_por_cargos\", udf_to_value(df2[\"Valor passagens\"]))\n",
    "    df2 = df2.withColumn(\"Media_por_cargos\", udf_to_value(df2[\"Valor passagens\"]))\n",
    "    df2 = df2.withColumn(\"Min_por_cargos\", udf_to_value(df2[\"Valor passagens\"]))\n",
    "    df2 = df2.withColumn(\"Total_por_cargos\", udf_to_value(df2[\"Valor passagens\"]))\n",
    "    \n",
    "    df2 = df2.withColumn(\"Max_por_solicitante\", udf_to_value(df2[\"Valor passagens\"]))\n",
    "    df2 = df2.withColumn(\"Media_por_solicitante\", udf_to_value(df2[\"Valor passagens\"]))\n",
    "    df2 = df2.withColumn(\"Min_por_solicitante\", udf_to_value(df2[\"Valor passagens\"]))\n",
    "    df2 = df2.withColumn(\"Total_por_solicitante\", udf_to_value(df2[\"Valor passagens\"]))\n",
    "\n",
    "    df2 = df2.withColumn(\"Max_por_org_sup_diaria\",    udf_to_value(df2[\"Valor diárias\"]))\n",
    "    df2 = df2.withColumn(\"Media_por_org_sup_diaria\", udf_to_value(df2[\"Valor diárias\"]))\n",
    "    df2 = df2.withColumn(\"Min_por_org_sup_diaria\",   udf_to_value(df2[\"Valor diárias\"]))\n",
    "    df2 = df2.withColumn(\"Total_por_org_sup_diaria\", udf_to_value(df2[\"Valor diárias\"]))\n",
    "    \n",
    "    return df2"
   ]
  },
  {
   "cell_type": "code",
   "execution_count": 47,
   "metadata": {},
   "outputs": [],
   "source": [
    "argumentos = []\n",
    "for i in sys.argv :\n",
    "    if(i.endswith(\".csv\")): \n",
    "        argumentos.append(i);\n",
    "lista = []\n",
    "if len(argumentos) == 0 : \n",
    "    lista.append(processarArquivo(caminhoArquivo))\n",
    "else :\n",
    "    for i in argumentos :\n",
    "        lista.append(processarArquivo(i)) "
   ]
  },
  {
   "cell_type": "code",
   "execution_count": 48,
   "metadata": {},
   "outputs": [],
   "source": [
    "dfUnido = lista[0]\n",
    "i = 0\n",
    "for data in lista : \n",
    "    if(i < (len(lista)-1)):\n",
    "        dfUnido = dfUnido.union(lista[i + 1])\n",
    "        i = i + 1"
   ]
  },
  {
   "cell_type": "code",
   "execution_count": 50,
   "metadata": {
    "ExecuteTime": {
     "end_time": "2019-09-24T03:36:55.199314Z",
     "start_time": "2019-09-24T03:36:55.108673Z"
    }
   },
   "outputs": [],
   "source": [
    "tabela_aggnm_sup = dfUnido.groupBy(\"Nome do órgão superior\").agg(F.max(\"Max_por_org_sup\"), \n",
    "                                          F.avg(\"Media_por_org_sup\"), \n",
    "                                          F.min(\"Min_por_org_sup\"), \n",
    "                                          F.sum(\"Total_por_org_sup\")).sort('Nome do órgão superior')\n",
    "tabela_aggnm_destino =dfUnido.groupBy(\"Destinos\").agg(F.max(\"Max_por_destinos\"), \n",
    "                                          F.avg(\"Media_por_destinos\"), \n",
    "                                          F.min(\"Min_por_destinos\"), \n",
    "                                          F.sum(\"Total_por_destinos\")).sort('Destinos')\n",
    "tabela_aggnm_cargo =dfUnido.groupBy(\"Cargo\").agg(F.max(\"Max_por_cargos\"), \n",
    "                                          F.avg(\"Media_por_cargos\"), \n",
    "                                          F.min(\"Min_por_cargos\"), \n",
    "                                          F.sum(\"Total_por_cargos\")).sort('Cargo')\n",
    "\n",
    "\n"
   ]
  },
  {
   "cell_type": "code",
   "execution_count": 52,
   "metadata": {},
   "outputs": [
    {
     "name": "stdout",
     "output_type": "stream",
     "text": [
      "root\n",
      " |-- Identificador do processo de viagem: string (nullable = true)\n",
      " |-- Situação: string (nullable = true)\n",
      " |-- Código do órgão superior: string (nullable = true)\n",
      " |-- Nome do órgão superior: string (nullable = true)\n",
      " |-- Código órgão solicitante: string (nullable = true)\n",
      " |-- Nome órgão solicitante: string (nullable = true)\n",
      " |-- CPF viajante: string (nullable = true)\n",
      " |-- Nome: string (nullable = true)\n",
      " |-- Cargo: string (nullable = true)\n",
      " |-- Período - Data de início: string (nullable = true)\n",
      " |-- Período - Data de fim: string (nullable = true)\n",
      " |-- Destinos: string (nullable = true)\n",
      " |-- Motivo: string (nullable = true)\n",
      " |-- Valor diárias: string (nullable = true)\n",
      " |-- Valor passagens: string (nullable = true)\n",
      " |-- Valor outros gastos: string (nullable = true)\n",
      " |-- Max_por_org_sup: string (nullable = true)\n",
      " |-- Media_por_org_sup: string (nullable = true)\n",
      " |-- Min_por_org_sup: string (nullable = true)\n",
      " |-- Total_por_org_sup: string (nullable = true)\n",
      " |-- Max_por_destinos: string (nullable = true)\n",
      " |-- Media_por_destinos: string (nullable = true)\n",
      " |-- Min_por_destinos: string (nullable = true)\n",
      " |-- Total_por_destinos: string (nullable = true)\n",
      " |-- Max_por_cargos: string (nullable = true)\n",
      " |-- Media_por_cargos: string (nullable = true)\n",
      " |-- Min_por_cargos: string (nullable = true)\n",
      " |-- Total_por_cargos: string (nullable = true)\n",
      " |-- Max_por_solicitante: string (nullable = true)\n",
      " |-- Media_por_solicitante: string (nullable = true)\n",
      " |-- Min_por_solicitante: string (nullable = true)\n",
      " |-- Total_por_solicitante: string (nullable = true)\n",
      " |-- Max_por_org_sup_diaria: string (nullable = true)\n",
      " |-- Media_por_org_sup_diaria: string (nullable = true)\n",
      " |-- Min_por_org_sup_diaria: string (nullable = true)\n",
      " |-- Total_por_org_sup_diaria: string (nullable = true)\n",
      "\n"
     ]
    }
   ],
   "source": [
    "dfUnido.printSchema()"
   ]
  },
  {
   "cell_type": "code",
   "execution_count": 57,
   "metadata": {},
   "outputs": [],
   "source": [
    "tabela_aggnm_solicitante =dfUnido.groupBy(\"Nome órgão solicitante\").agg(F.max(\"Max_por_solicitante\"), \n",
    "                                          F.avg(\"Media_por_solicitante\"), \n",
    "                                          F.min(\"Min_por_solicitante\"), \n",
    "                                          F.sum(\"Total_por_solicitante\")).sort('Nome órgão solicitante')\n",
    "\n",
    "tabela_aggnm_diaria =dfUnido.groupBy(\"Nome do órgão superior\").agg(F.max(\"Max_por_org_sup_diaria\"), \n",
    "                                          F.avg(\"Media_por_org_sup_diaria\"), \n",
    "                                          F.min(\"Min_por_org_sup_diaria\"), \n",
    "                                          F.sum(\"Total_por_org_sup_diaria\")).sort('Nome do órgão superior')"
   ]
  },
  {
   "cell_type": "code",
   "execution_count": 58,
   "metadata": {},
   "outputs": [],
   "source": [
    "tabela_aggnm_sup.coalesce(1).write.mode('overwrite').option('header', \"true\").csv(\"agg_por_org_sup\")\n",
    "tabela_aggnm_destino.coalesce(1).write.mode('overwrite').option('header', \"true\").csv(\"agg_por_destinos\")\n",
    "tabela_aggnm_cargo.coalesce(1).write.mode('overwrite').option('header', \"true\").csv(\"agg_por_cargo\")\n",
    "tabela_aggnm_solicitante.coalesce(1).write.mode('overwrite').option('header', \"true\").csv(\"agg_por_solicitante\")\n",
    "tabela_aggnm_diaria.coalesce(1).write.mode('overwrite').option('header', \"true\").csv(\"agg_por_diaria\")"
   ]
  },
  {
   "cell_type": "code",
   "execution_count": null,
   "metadata": {},
   "outputs": [],
   "source": []
  }
 ],
 "metadata": {
  "kernelspec": {
   "display_name": "Python 3",
   "language": "python",
   "name": "python3"
  },
  "language_info": {
   "codemirror_mode": {
    "name": "ipython",
    "version": 3
   },
   "file_extension": ".py",
   "mimetype": "text/x-python",
   "name": "python",
   "nbconvert_exporter": "python",
   "pygments_lexer": "ipython3",
   "version": "3.7.1"
  },
  "toc": {
   "base_numbering": 1,
   "nav_menu": {},
   "number_sections": true,
   "sideBar": true,
   "skip_h1_title": false,
   "title_cell": "Table of Contents",
   "title_sidebar": "Contents",
   "toc_cell": false,
   "toc_position": {},
   "toc_section_display": true,
   "toc_window_display": true
  },
  "varInspector": {
   "cols": {
    "lenName": 16,
    "lenType": 16,
    "lenVar": 40
   },
   "kernels_config": {
    "python": {
     "delete_cmd_postfix": "",
     "delete_cmd_prefix": "del ",
     "library": "var_list.py",
     "varRefreshCmd": "print(var_dic_list())"
    },
    "r": {
     "delete_cmd_postfix": ") ",
     "delete_cmd_prefix": "rm(",
     "library": "var_list.r",
     "varRefreshCmd": "cat(var_dic_list()) "
    }
   },
   "types_to_exclude": [
    "module",
    "function",
    "builtin_function_or_method",
    "instance",
    "_Feature"
   ],
   "window_display": false
  }
 },
 "nbformat": 4,
 "nbformat_minor": 2
}
