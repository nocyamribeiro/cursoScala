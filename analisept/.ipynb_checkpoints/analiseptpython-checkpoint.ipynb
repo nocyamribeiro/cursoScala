{
 "cells": [
  {
   "cell_type": "code",
   "execution_count": 3,
   "metadata": {},
   "outputs": [],
   "source": [
    "import findspark\n",
    "import os\n",
    "\n",
    "findspark.init(os.environ.get('SPARK_HOME'))\n",
    "\n",
    "from pyspark import SparkContext, SparkConf\n",
    "from pyspark.sql import SparkSession\n"
   ]
  },
  {
   "cell_type": "code",
   "execution_count": 6,
   "metadata": {},
   "outputs": [],
   "source": [
    "spark = SparkSession.builder.appName(\"GastoMinisterio\").getOrCreate()"
   ]
  },
  {
   "cell_type": "code",
   "execution_count": null,
   "metadata": {},
   "outputs": [],
   "source": [
    "\n",
    "    \n",
    "    df = spark.read.format(\"csv\").option(\"header\", \"true\").option(\"delimiter\", \";\").option(\"encoding\", \"windows-1252\").load(\"hdfs://localhost:9000/user/maycon/2019_Viagem.csv\")\n",
    "    to_value = (v:String) => v.replace(\",\", \".\").toDouble\n",
    "    udf_to_value = functions.udf(to_value)\n",
    "    \n",
    "    df2 = df.withColumn(\"value\", udf_to_value(df(\"Valor passagens\")))\n",
    "\n",
    "    orgaos = df2.select(\"Nome do órgão superior\").distinct()\n",
    "    \n",
    "    df2.groupBy(\"Nome do órgão superior\").agg(functions.max(\"value\"), functions.sum(\"value\"), functions.count(\"value\"), functions.avg(\"value\")).show(orgaos.count().intValue(), truncate = False)\n",
    "    \n",
    "    import spark.implicits._\n",
    "    tuplaOrgaosValor = df2.map(x => (x.getAs[String](\"Nome do órgão superior\"), x.getAs[Double](\"value\")))\n",
    "    \n",
    "    df2.write.mode(SaveMode.Overwrite).csv(\"hdfs://localhost:9000/user/maycon/agrupamentoMinisterio.csv\")"
   ]
  }
 ],
 "metadata": {
  "kernelspec": {
   "display_name": "Python 3",
   "language": "python",
   "name": "python3"
  },
  "language_info": {
   "codemirror_mode": {
    "name": "ipython",
    "version": 3
   },
   "file_extension": ".py",
   "mimetype": "text/x-python",
   "name": "python",
   "nbconvert_exporter": "python",
   "pygments_lexer": "ipython3",
   "version": "3.7.1"
  }
 },
 "nbformat": 4,
 "nbformat_minor": 2
}
