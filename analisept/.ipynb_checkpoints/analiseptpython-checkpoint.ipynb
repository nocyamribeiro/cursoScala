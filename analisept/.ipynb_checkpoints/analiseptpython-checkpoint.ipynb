{
 "cells": [
  {
   "cell_type": "code",
   "execution_count": 69,
   "metadata": {},
   "outputs": [],
   "source": [
    "import findspark\n",
    "import os\n",
    "\n",
    "findspark.init(os.environ.get('SPARK_HOME'))\n",
    "\n",
    "from pyspark import SparkContext, SparkConf\n",
    "from pyspark.sql import SparkSession\n",
    "import pyspark.sql.functions as functions\n",
    "from decimal import Decimal\n"
   ]
  },
  {
   "cell_type": "code",
   "execution_count": 70,
   "metadata": {},
   "outputs": [],
   "source": [
    "spark = SparkSession.builder.appName(\"GastoMinisterio\").getOrCreate()"
   ]
  },
  {
   "cell_type": "code",
   "execution_count": 71,
   "metadata": {},
   "outputs": [],
   "source": [
    "df = spark.read.format(\"csv\").option(\"header\", True).option(\"delimiter\", \";\").option('encoding', 'windows-1252').csv('hdfs://localhost:9000/user/maycon/2019_Viagem.csv')   "
   ]
  },
  {
   "cell_type": "code",
   "execution_count": 72,
   "metadata": {},
   "outputs": [],
   "source": [
    "to_value = lambda v : Decimal(v.replace(\",\", \".\"))"
   ]
  },
  {
   "cell_type": "code",
   "execution_count": 73,
   "metadata": {},
   "outputs": [],
   "source": [
    "udf_to_value = functions.udf(to_value)"
   ]
  },
  {
   "cell_type": "code",
   "execution_count": 74,
   "metadata": {},
   "outputs": [],
   "source": [
    "df2 = df.withColumn(\"value\", udf_to_value(df[\"Valor passagens\"]))"
   ]
  },
  {
   "cell_type": "code",
   "execution_count": 75,
   "metadata": {},
   "outputs": [],
   "source": [
    "orgaos = df2.select(\"Nome do órgão superior\").distinct()"
   ]
  },
  {
   "cell_type": "code",
   "execution_count": 76,
   "metadata": {},
   "outputs": [
    {
     "name": "stdout",
     "output_type": "stream",
     "text": [
      "+-----------------------------------------------------------+----------+--------------------+------------+------------------+\n",
      "|Nome do órgão superior                                     |max(value)|sum(value)          |count(value)|avg(value)        |\n",
      "+-----------------------------------------------------------+----------+--------------------+------------+------------------+\n",
      "|Ministério do Meio Ambiente                                |989.92    |4754103.779999999   |11766       |404.0543753187149 |\n",
      "|Ministério da Agricultura, Pecuária e Abastecimento        |998.83    |6569691.700000001   |18862       |348.30302725055674|\n",
      "|Advocacia-Geral da União                                   |994.57    |978350.1899999995   |3696        |264.70513798701285|\n",
      "|Ministério das Cidades                                     |0.00      |0.0                 |1           |0.0               |\n",
      "|Ministério da Cultura                                      |3494.56   |5256.2              |2           |2628.1            |\n",
      "|Ministério da Cidadania                                    |998.58    |1823496.37          |1923        |948.2560426417057 |\n",
      "|Presidência da República                                   |999.91    |6874017.199999995   |5309        |1294.7856846863806|\n",
      "|Ministério da Ciência, Tecnologia, Inovações e Comunicações|999.24    |5865138.879999997   |4647        |1262.1344695502469|\n",
      "|Ministério da Defesa                                       |9992.13   |2.5382413790000178E7|40575       |625.5678075169483 |\n",
      "|Ministério de Minas e Energia                              |999.58    |4674223.4099999955  |2336        |2000.9518022260254|\n",
      "|Ministério da Saúde                                        |999.52    |1.2455889480000049E7|17286       |720.5767372440154 |\n",
      "|Ministério da Justiça e Segurança Pública                  |999.24    |1.6384108910000088E7|39445       |415.36592495880564|\n",
      "|Ministério do Esporte                                      |4570.50   |29018.15            |10          |2901.815          |\n",
      "|Ministério do Turismo                                      |9933.96   |352232.66000000003  |86          |4095.728604651163 |\n",
      "|Ministério dos Transportes, Portos e Aviação Civil         |999.77    |8200250.740000004   |8975        |913.6769626740952 |\n",
      "|Ministério da Indústria, Comércio Exterior e Serviços      |9593.88   |915519.7399999998   |251         |3647.489003984063 |\n",
      "|Ministério da Mulher, Família e Direitos Humanos           |991.92    |1107592.3099999998  |2408        |459.9635838870431 |\n",
      "|Ministério da Economia                                     |999.92    |1.428196755000012E7 |38441       |371.5295530813486 |\n",
      "|Ministério do Desenvolvimento Regional                     |998.47    |1871401.879999999   |3227        |579.9200123954133 |\n",
      "|Ministério da Transparência e Controladoria-Geral da União |992.57    |1088513.2799999993  |1472        |739.4791304347822 |\n",
      "|Ministério das Relações Exteriores                         |996.51    |6260731.489999999   |1708        |3665.533659250585 |\n",
      "|Ministério do Trabalho e Emprego                           |996.78    |639229.55           |2372        |269.4896922428331 |\n",
      "|Sem informação                                             |9990.68   |1.6887812710000128E7|19665       |858.7751187388826 |\n",
      "|Ministério da Educação                                     |999.87    |4.131767176000005E7 |87607       |471.6252326868863 |\n",
      "|Ministério do Planejamento, Desenvolvimento e Gestão       |984.70    |588766.21           |446         |1320.1036098654708|\n",
      "+-----------------------------------------------------------+----------+--------------------+------------+------------------+\n",
      "\n"
     ]
    }
   ],
   "source": [
    "df2.groupBy(\"Nome do órgão superior\").agg(functions.max(\"value\"), functions.sum(\"value\"), functions.count(\"value\"), functions.avg(\"value\")).show(orgaos.count(), truncate = False)"
   ]
  },
  {
   "cell_type": "code",
   "execution_count": 77,
   "metadata": {},
   "outputs": [],
   "source": [
    "df2.write.mode('overwrite').csv(\"hdfs://localhost:9000/user/maycon/agrupamentoMinisterio2.csv\")"
   ]
  },
  {
   "cell_type": "code",
   "execution_count": 78,
   "metadata": {},
   "outputs": [
    {
     "name": "stdout",
     "output_type": "stream",
     "text": [
      "+-----------------------------------------+-------+\n",
      "|Nome do órgão superior                   |value  |\n",
      "+-----------------------------------------+-------+\n",
      "|Ministério da Educação                   |2875.92|\n",
      "|Ministério da Educação                   |2420.48|\n",
      "|Ministério da Educação                   |2694.58|\n",
      "|Ministério da Defesa                     |1236.38|\n",
      "|Ministério da Defesa                     |746.35 |\n",
      "|Ministério da Defesa                     |1293.41|\n",
      "|Ministério da Educação                   |986.15 |\n",
      "|Ministério da Justiça e Segurança Pública|1492.03|\n",
      "|Ministério da Justiça e Segurança Pública|1492.03|\n",
      "|Ministério da Educação                   |672.60 |\n",
      "|Ministério da Educação                   |2671.65|\n",
      "|Ministério da Educação                   |0.00   |\n",
      "|Ministério das Relações Exteriores       |3463.12|\n",
      "|Ministério das Relações Exteriores       |5895.37|\n",
      "|Ministério da Educação                   |5889.17|\n",
      "|Ministério da Justiça e Segurança Pública|4304.31|\n",
      "|Ministério da Justiça e Segurança Pública|4304.31|\n",
      "|Ministério da Educação                   |1105.34|\n",
      "|Ministério da Educação                   |1775.64|\n",
      "|Ministério da Educação                   |1775.64|\n",
      "+-----------------------------------------+-------+\n",
      "only showing top 20 rows\n",
      "\n"
     ]
    }
   ],
   "source": [
    "df2.select('Nome do órgão superior', 'value').show(truncate = False)"
   ]
  },
  {
   "cell_type": "code",
   "execution_count": 79,
   "metadata": {},
   "outputs": [],
   "source": [
    "tuplaOrgaosValor = df2.rdd.map(lambda x : (x[\"Nome do órgão superior\"], x[\"value\"]))"
   ]
  },
  {
   "cell_type": "code",
   "execution_count": 80,
   "metadata": {},
   "outputs": [
    {
     "data": {
      "text/plain": [
       "[('Ministério da Educação', '2875.92'),\n",
       " ('Ministério da Educação', '2420.48'),\n",
       " ('Ministério da Educação', '2694.58'),\n",
       " ('Ministério da Defesa', '1236.38'),\n",
       " ('Ministério da Defesa', '746.35'),\n",
       " ('Ministério da Defesa', '1293.41'),\n",
       " ('Ministério da Educação', '986.15'),\n",
       " ('Ministério da Justiça e Segurança Pública', '1492.03'),\n",
       " ('Ministério da Justiça e Segurança Pública', '1492.03'),\n",
       " ('Ministério da Educação', '672.60')]"
      ]
     },
     "execution_count": 80,
     "metadata": {},
     "output_type": "execute_result"
    }
   ],
   "source": [
    "tuplaOrgaosValor.take(10)"
   ]
  },
  {
   "cell_type": "code",
   "execution_count": null,
   "metadata": {},
   "outputs": [],
   "source": []
  }
 ],
 "metadata": {
  "kernelspec": {
   "display_name": "Python 3",
   "language": "python",
   "name": "python3"
  },
  "language_info": {
   "codemirror_mode": {
    "name": "ipython",
    "version": 3
   },
   "file_extension": ".py",
   "mimetype": "text/x-python",
   "name": "python",
   "nbconvert_exporter": "python",
   "pygments_lexer": "ipython3",
   "version": "3.7.1"
  }
 },
 "nbformat": 4,
 "nbformat_minor": 2
}
