{
 "cells": [
  {
   "cell_type": "code",
   "execution_count": 122,
   "metadata": {
    "ExecuteTime": {
     "end_time": "2019-09-24T03:35:48.615612Z",
     "start_time": "2019-09-24T03:35:48.606619Z"
    }
   },
   "outputs": [],
   "source": [
    "import findspark\n",
    "import os\n",
    "\n",
    "findspark.init(os.environ.get('SPARK_HOME'))\n",
    "\n",
    "from pyspark import SparkContext, SparkConf\n",
    "from pyspark.sql import SparkSession\n",
    "import pyspark.sql.functions as functions\n",
    "from decimal import Decimal\n",
    "from pyspark.sql import functions as F "
   ]
  },
  {
   "cell_type": "code",
   "execution_count": 123,
   "metadata": {
    "ExecuteTime": {
     "end_time": "2019-09-24T03:35:48.724709Z",
     "start_time": "2019-09-24T03:35:48.619723Z"
    }
   },
   "outputs": [],
   "source": [
    "spark = SparkSession.builder.appName(\"GastoMinisterio\").getOrCreate()"
   ]
  },
  {
   "cell_type": "code",
   "execution_count": 124,
   "metadata": {
    "ExecuteTime": {
     "end_time": "2019-09-24T03:35:49.385632Z",
     "start_time": "2019-09-24T03:35:48.727841Z"
    }
   },
   "outputs": [],
   "source": [
    "df = spark.read.format(\"csv\").option(\"header\", True).option(\"delimiter\", \";\").option('encoding', 'windows-1252').csv('/home/maycon/Cursos/spark/2019_Viagem.csv')"
   ]
  },
  {
   "cell_type": "code",
   "execution_count": 126,
   "metadata": {
    "ExecuteTime": {
     "end_time": "2019-09-24T03:35:49.595474Z",
     "start_time": "2019-09-24T03:35:49.417834Z"
    }
   },
   "outputs": [],
   "source": [
    "#converte decimal\n",
    "to_value = lambda v : Decimal(v.replace(\",\", \".\"))"
   ]
  },
  {
   "cell_type": "code",
   "execution_count": 127,
   "metadata": {
    "ExecuteTime": {
     "end_time": "2019-09-24T03:35:49.761642Z",
     "start_time": "2019-09-24T03:35:49.600696Z"
    }
   },
   "outputs": [],
   "source": [
    "udf_to_value = functions.udf(to_value)"
   ]
  },
  {
   "cell_type": "code",
   "execution_count": 128,
   "metadata": {
    "ExecuteTime": {
     "end_time": "2019-09-24T03:35:50.182755Z",
     "start_time": "2019-09-24T03:35:49.766321Z"
    }
   },
   "outputs": [],
   "source": [
    "df2 = df.withColumn(\"Max_por_org_sup\",    udf_to_value(df[\"Valor passagens\"]))\n",
    "df2 = df2.withColumn(\"Media_por_org_sup\", udf_to_value(df2[\"Valor passagens\"]))\n",
    "df2 = df2.withColumn(\"Min_por_org_sup\",   udf_to_value(df2[\"Valor passagens\"]))\n",
    "df2 = df2.withColumn(\"Total_por_org_sup\", udf_to_value(df2[\"Valor passagens\"]))\n",
    "\n",
    "df2 = df2.withColumn(\"Max_por_destinos\", udf_to_value(df2[\"Valor passagens\"]))\n",
    "df2 = df2.withColumn(\"Media_por_destinos\", udf_to_value(df2[\"Valor passagens\"]))\n",
    "df2 = df2.withColumn(\"Min_por_destinos\", udf_to_value(df2[\"Valor passagens\"]))\n",
    "df2 = df2.withColumn(\"Total_por_destinos\", udf_to_value(df2[\"Valor passagens\"]))\n",
    "\n",
    "df2 = df2.withColumn(\"Max_por_cargos\", udf_to_value(df2[\"Valor passagens\"]))\n",
    "df2 = df2.withColumn(\"Media_por_cargos\", udf_to_value(df2[\"Valor passagens\"]))\n",
    "df2 = df2.withColumn(\"Min_por_cargos\", udf_to_value(df2[\"Valor passagens\"]))\n",
    "df2 = df2.withColumn(\"Total_por_cargos\", udf_to_value(df2[\"Valor passagens\"]))\n",
    "\n"
   ]
  },
  {
   "cell_type": "code",
   "execution_count": 133,
   "metadata": {
    "ExecuteTime": {
     "end_time": "2019-09-24T03:36:55.199314Z",
     "start_time": "2019-09-24T03:36:55.108673Z"
    }
   },
   "outputs": [],
   "source": [
    "tabela_aggnm_sup = df2.groupBy(\"Nome do órgão superior\").agg(F.max(\"Max_por_org_sup\"), \n",
    "                                          F.avg(\"Media_por_org_sup\"), \n",
    "                                          F.min(\"Min_por_org_sup\"), \n",
    "                                          F.sum(\"Total_por_org_sup\")).sort('Nome do órgão superior')"
   ]
  },
  {
   "cell_type": "code",
   "execution_count": 134,
   "metadata": {
    "ExecuteTime": {
     "end_time": "2019-09-24T03:37:12.004319Z",
     "start_time": "2019-09-24T03:36:55.201428Z"
    }
   },
   "outputs": [],
   "source": [
    "export_tabela_aggnm_sup = tabela_aggnm_sup.rdd"
   ]
  },
  {
   "cell_type": "code",
   "execution_count": 135,
   "metadata": {
    "ExecuteTime": {
     "end_time": "2019-09-24T03:37:29.277866Z",
     "start_time": "2019-09-24T03:37:12.007490Z"
    }
   },
   "outputs": [],
   "source": [
    "export_tabela_aggnm_sup.saveAsTextFile('C:/SPARK_HOME/agg_por_org_sup')"
   ]
  },
  {
   "cell_type": "code",
   "execution_count": 136,
   "metadata": {
    "ExecuteTime": {
     "end_time": "2019-09-24T03:37:29.342778Z",
     "start_time": "2019-09-24T03:37:29.280730Z"
    }
   },
   "outputs": [],
   "source": [
    "tabela_aggnm_destino =df2.groupBy(\"Destinos\").agg(F.max(\"Max_por_destinos\"), \n",
    "                                          F.avg(\"Media_por_destinos\"), \n",
    "                                          F.min(\"Min_por_destinos\"), \n",
    "                                          F.sum(\"Total_por_destinos\")).sort('Destinos')"
   ]
  },
  {
   "cell_type": "code",
   "execution_count": 137,
   "metadata": {
    "ExecuteTime": {
     "end_time": "2019-09-24T03:37:52.583556Z",
     "start_time": "2019-09-24T03:37:29.345305Z"
    }
   },
   "outputs": [],
   "source": [
    "export_tabela_aggnm_destino = tabela_aggnm_destino.rdd"
   ]
  },
  {
   "cell_type": "code",
   "execution_count": 138,
   "metadata": {
    "ExecuteTime": {
     "end_time": "2019-09-24T03:40:53.748881Z",
     "start_time": "2019-09-24T03:37:52.586530Z"
    }
   },
   "outputs": [],
   "source": [
    "export_tabela_aggnm_destino.saveAsTextFile('C:/SPARK_HOME/agg_por_destinos')"
   ]
  },
  {
   "cell_type": "code",
   "execution_count": 139,
   "metadata": {
    "ExecuteTime": {
     "end_time": "2019-09-24T03:40:53.893773Z",
     "start_time": "2019-09-24T03:40:53.754482Z"
    }
   },
   "outputs": [],
   "source": [
    "tabela_aggnm_cargo =df2.groupBy(\"Cargo\").agg(F.max(\"Max_por_cargos\"), \n",
    "                                          F.avg(\"Media_por_cargos\"), \n",
    "                                          F.min(\"Min_por_cargos\"), \n",
    "                                          F.sum(\"Total_por_cargos\")).sort('Cargo')"
   ]
  },
  {
   "cell_type": "code",
   "execution_count": 140,
   "metadata": {
    "ExecuteTime": {
     "end_time": "2019-09-24T03:41:05.513799Z",
     "start_time": "2019-09-24T03:40:53.896173Z"
    }
   },
   "outputs": [],
   "source": [
    "export_tabela_aggnm_cargo = tabela_aggnm_cargo.rdd"
   ]
  },
  {
   "cell_type": "code",
   "execution_count": null,
   "metadata": {
    "ExecuteTime": {
     "start_time": "2019-09-24T03:41:19.538Z"
    }
   },
   "outputs": [],
   "source": [
    "export_tabela_aggnm_cargo.saveAsTextFile('C:/SPARK_HOME/agg_por_cargo')"
   ]
  },
  {
   "cell_type": "code",
   "execution_count": null,
   "metadata": {},
   "outputs": [],
   "source": []
  }
 ],
 "metadata": {
  "kernelspec": {
   "display_name": "Python 3",
   "language": "python",
   "name": "python3"
  },
  "language_info": {
   "codemirror_mode": {
    "name": "ipython",
    "version": 3
   },
   "file_extension": ".py",
   "mimetype": "text/x-python",
   "name": "python",
   "nbconvert_exporter": "python",
   "pygments_lexer": "ipython3",
   "version": "3.7.1"
  },
  "toc": {
   "base_numbering": 1,
   "nav_menu": {},
   "number_sections": true,
   "sideBar": true,
   "skip_h1_title": false,
   "title_cell": "Table of Contents",
   "title_sidebar": "Contents",
   "toc_cell": false,
   "toc_position": {},
   "toc_section_display": true,
   "toc_window_display": true
  },
  "varInspector": {
   "cols": {
    "lenName": 16,
    "lenType": 16,
    "lenVar": 40
   },
   "kernels_config": {
    "python": {
     "delete_cmd_postfix": "",
     "delete_cmd_prefix": "del ",
     "library": "var_list.py",
     "varRefreshCmd": "print(var_dic_list())"
    },
    "r": {
     "delete_cmd_postfix": ") ",
     "delete_cmd_prefix": "rm(",
     "library": "var_list.r",
     "varRefreshCmd": "cat(var_dic_list()) "
    }
   },
   "types_to_exclude": [
    "module",
    "function",
    "builtin_function_or_method",
    "instance",
    "_Feature"
   ],
   "window_display": false
  }
 },
 "nbformat": 4,
 "nbformat_minor": 2
}
